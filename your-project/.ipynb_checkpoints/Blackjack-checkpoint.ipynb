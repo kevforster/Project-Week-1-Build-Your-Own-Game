{
 "cells": [
  {
   "cell_type": "markdown",
   "metadata": {},
   "source": [
    "# Welcome to the Blackjack game"
   ]
  },
  {
   "cell_type": "markdown",
   "metadata": {},
   "source": [
    "In the following we will try to beat the dealer in a very simple game. To read the rules please go to README."
   ]
  },
  {
   "cell_type": "markdown",
   "metadata": {},
   "source": [
    "## Cards"
   ]
  },
  {
   "cell_type": "markdown",
   "metadata": {},
   "source": [
    "There are 52 cards in one set. In the casino more than one set is used. Although in this case we only use one set:"
   ]
  },
  {
   "cell_type": "markdown",
   "metadata": {},
   "source": [
    "<img src=\"images-1-4.jpeg\">"
   ]
  },
  {
   "cell_type": "code",
   "execution_count": 1,
   "metadata": {},
   "outputs": [],
   "source": [
    "#code to define all the cards\n",
    "cards = {\"Ace\":11, \"King\":10, \"Queen\":10, \"Jack\":10, \"10\":10, \"9\":9, \"8\":8, \"7\":7, \"6\":6, \"5\":5, \"4\":4, \"3\":3, \"2\":2}"
   ]
  },
  {
   "cell_type": "markdown",
   "metadata": {},
   "source": [
    "## First round"
   ]
  },
  {
   "cell_type": "markdown",
   "metadata": {},
   "source": [
    "In the first round the dealer will hand out 2 cards to the user. The dealer itself will get 1 card to give the user a hint what the hand of the dealer at the end could be. So summarised in this round gets:\n",
    "- the user 2 cards\n",
    "- the dealer 1 card"
   ]
  },
  {
   "cell_type": "markdown",
   "metadata": {},
   "source": [
    "<img src=\"Blackjack_game_1.jpg\">"
   ]
  },
  {
   "cell_type": "code",
   "execution_count": 2,
   "metadata": {},
   "outputs": [
    {
     "name": "stdout",
     "output_type": "stream",
     "text": [
      "Your first two cards are: 3, 3\n",
      "This has a value of: 6\n",
      "The first card of the dealer is: 2\n"
     ]
    }
   ],
   "source": [
    "#1st and 2nd card of the user\n",
    "import random\n",
    "first_card_user = random.choice(list(cards.keys()))\n",
    "second_card_user = random.choice(list(cards.keys()))\n",
    "total_two_cards = cards[first_card_user]+cards[second_card_user]\n",
    "\n",
    "if total_two_cards == 22:\n",
    "    total_two_cards= 12\n",
    "    \n",
    "print(\"Your first two cards are: \"+first_card_user+\", \"+second_card_user)\n",
    "print(\"This has a value of: \" +str(total_two_cards))\n",
    "if total_two_cards == 21:\n",
    "    print(\"Congrats, you have blackjack and you won\")   \n",
    "else:\n",
    "    first_card_dealer = random.choice(list(cards.keys()))\n",
    "    print(\"The first card of the dealer is: \"+ first_card_dealer)\n"
   ]
  },
  {
   "cell_type": "markdown",
   "metadata": {},
   "source": [
    "## Further user rounds"
   ]
  },
  {
   "cell_type": "markdown",
   "metadata": {},
   "source": [
    "After the user received 2 cards, he can decide how many more cards he wants to receive. He should be as close to 21 but not over it. And do not forget, the Ace can be used as 11 or 1! So summarised in this round:\n",
    "- user gets 1 card at a time\n",
    "- and decides if he wants another one\n",
    "- if he says \"stand\", the user will keep the points and does not want to have more cards"
   ]
  },
  {
   "cell_type": "markdown",
   "metadata": {},
   "source": [
    "<img src=\"Blackjack.jpg\">"
   ]
  },
  {
   "cell_type": "code",
   "execution_count": 8,
   "metadata": {},
   "outputs": [
    {
     "name": "stdout",
     "output_type": "stream",
     "text": [
      "Do you want another card? (Yes/No): Yes\n",
      "Your next card is: 8\n",
      "This is a total of: 14\n",
      "Do you want another card? (Yes/No): Yes\n",
      "Your next card is: 8\n",
      "This is a total of: 22\n",
      "Your Total is higher than 21, so you lost!\n"
     ]
    }
   ],
   "source": [
    "#further cards of the user\n",
    "total=total_two_cards\n",
    "user_cards=[cards[first_card_user], cards[second_card_user]]\n",
    "while total<22:\n",
    "    third_card_question=input(\"Do you want another card? (Yes/No): \")\n",
    "    if third_card_question==\"No\":\n",
    "        print(\"Your Total is \"+str(total)+\"! Let us see what the dealer has!\")\n",
    "        break\n",
    "    else:\n",
    "        third_card_user = random.choice(list(cards.keys()))\n",
    "        print(\"Your next card is: \" + str(third_card_user))\n",
    "        user_cards.append(cards[third_card_user])\n",
    "        if sum(user_cards)>21:\n",
    "            for i in range(len(user_cards)):\n",
    "                if user_cards[i]==11:\n",
    "                    user_cards[i]=1\n",
    "                    break\n",
    "        total=sum(user_cards)\n",
    "        print(\"This is a total of: \"+ str(total))\n",
    "        \n",
    "if total>21:\n",
    "    print(\"Your Total is higher than 21, so you LOST!\")\n",
    "    "
   ]
  },
  {
   "cell_type": "markdown",
   "metadata": {},
   "source": [
    "## The dealers round"
   ]
  },
  {
   "cell_type": "markdown",
   "metadata": {},
   "source": [
    "The dealer now gets as many cards as he reaches more than 16. If he reaches 17 or more, he is not allowed to take another card. Summarised this round:\n",
    "- cards until a number > 16 is reached"
   ]
  },
  {
   "cell_type": "markdown",
   "metadata": {},
   "source": [
    "<img src=\"Blackjack_game_3.jpg\">"
   ]
  },
  {
   "cell_type": "code",
   "execution_count": 11,
   "metadata": {},
   "outputs": [
    {
     "name": "stdout",
     "output_type": "stream",
     "text": [
      "The next card of the dealer is: 9\n",
      "This is a total of: 11\n",
      "The next card of the dealer is: 10\n",
      "This is a total of: 21\n"
     ]
    }
   ],
   "source": [
    "#Dealer\n",
    "total_dealer=[cards[first_card_dealer]]\n",
    "\n",
    "while sum(total_dealer)<17:\n",
    "    card_dealer = random.choice(list(cards.keys()))\n",
    "    total_dealer.append(cards[card_dealer])\n",
    "    print(\"The next card of the dealer is: \"+card_dealer)\n",
    "    print (\"This is a total of: \"+str(sum(total_dealer)))\n",
    "    if sum(total_dealer)>21:\n",
    "        if 11 in total_dealer:\n",
    "            for i in range(len(total_dealer)):\n",
    "                if total_dealer[i]==11:\n",
    "                    user_cards[i]=1\n",
    "                    break\n",
    "        else: print(\"The dealer has too much, you WON!\")\n",
    "    \n"
   ]
  },
  {
   "cell_type": "markdown",
   "metadata": {},
   "source": [
    "## The winner is"
   ]
  },
  {
   "cell_type": "markdown",
   "metadata": {},
   "source": [
    "- If the user has blackjack (A & 10-card), he wins straight away.\n",
    "- If the user has more than 21, he loses\n",
    "- If the bank has more than 21 and the user <21, the user wins\n",
    "- If the bank has the same amount as the user and both are below 21, it'd be a draw\n",
    "- If the user is closer to 21 than the bank, the user wins."
   ]
  },
  {
   "cell_type": "code",
   "execution_count": 6,
   "metadata": {
    "scrolled": false
   },
   "outputs": [
    {
     "name": "stdout",
     "output_type": "stream",
     "text": [
      "The dealer has a total of 17\n",
      "16\n",
      "The dealer has more than you. You LOST!\n"
     ]
    }
   ],
   "source": [
    "#result\n",
    "print (\"The dealer has a total of \"+str(sum(total_dealer)))\n",
    "print (str(total))\n",
    "if sum(total_dealer)>21:\n",
    "    print(\"The dealer has more than 21. So you WON!\")\n",
    "elif sum(total_dealer)>total:\n",
    "    print(\"The dealer has more than you. You LOST!\")\n",
    "elif sum(total_dealer)<total:\n",
    "    print(\"You beat the dealer. You WON!\")"
   ]
  }
 ],
 "metadata": {
  "kernelspec": {
   "display_name": "Python 3",
   "language": "python",
   "name": "python3"
  },
  "language_info": {
   "codemirror_mode": {
    "name": "ipython",
    "version": 3
   },
   "file_extension": ".py",
   "mimetype": "text/x-python",
   "name": "python",
   "nbconvert_exporter": "python",
   "pygments_lexer": "ipython3",
   "version": "3.7.3"
  }
 },
 "nbformat": 4,
 "nbformat_minor": 2
}
