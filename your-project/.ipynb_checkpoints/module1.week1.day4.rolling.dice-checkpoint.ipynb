{
 "cells": [
  {
   "cell_type": "code",
   "execution_count": 1,
   "metadata": {},
   "outputs": [],
   "source": [
    "def dynamic_dice():\n",
    "    import random\n",
    "    throw_1 = random.randint(1, 10)\n",
    "    throw_2 = random.randint(1, 10)\n",
    "    a = (throw_1, throw_2)\n",
    "    return a"
   ]
  },
  {
   "cell_type": "code",
   "execution_count": 3,
   "metadata": {},
   "outputs": [
    {
     "data": {
      "text/plain": [
       "(1, 3)"
      ]
     },
     "execution_count": 3,
     "metadata": {},
     "output_type": "execute_result"
    }
   ],
   "source": [
    "dynamic_dice()"
   ]
  },
  {
   "cell_type": "code",
   "execution_count": 4,
   "metadata": {},
   "outputs": [
    {
     "data": {
      "text/plain": [
       "(8, 6)"
      ]
     },
     "execution_count": 4,
     "metadata": {},
     "output_type": "execute_result"
    }
   ],
   "source": [
    "dynamic_dice()"
   ]
  },
  {
   "cell_type": "code",
   "execution_count": 5,
   "metadata": {},
   "outputs": [],
   "source": [
    "import random\n",
    "def dynamic_dice_2(low_bound=1, up_bound=6):\n",
    "    return random.randrange(low_bound, up_bound)\n"
   ]
  },
  {
   "cell_type": "code",
   "execution_count": 6,
   "metadata": {},
   "outputs": [
    {
     "data": {
      "text/plain": [
       "1"
      ]
     },
     "execution_count": 6,
     "metadata": {},
     "output_type": "execute_result"
    }
   ],
   "source": [
    "dynamic_dice_2() "
   ]
  },
  {
   "cell_type": "code",
   "execution_count": 7,
   "metadata": {},
   "outputs": [
    {
     "data": {
      "text/plain": [
       "1"
      ]
     },
     "execution_count": 7,
     "metadata": {},
     "output_type": "execute_result"
    }
   ],
   "source": [
    "dynamic_dice_2() "
   ]
  },
  {
   "cell_type": "code",
   "execution_count": 8,
   "metadata": {},
   "outputs": [
    {
     "data": {
      "text/plain": [
       "4"
      ]
     },
     "execution_count": 8,
     "metadata": {},
     "output_type": "execute_result"
    }
   ],
   "source": [
    "dynamic_dice_2() "
   ]
  },
  {
   "cell_type": "code",
   "execution_count": 9,
   "metadata": {},
   "outputs": [
    {
     "data": {
      "text/plain": [
       "3"
      ]
     },
     "execution_count": 9,
     "metadata": {},
     "output_type": "execute_result"
    }
   ],
   "source": [
    "dynamic_dice_2() "
   ]
  },
  {
   "cell_type": "code",
   "execution_count": 22,
   "metadata": {},
   "outputs": [
    {
     "data": {
      "text/plain": [
       "6"
      ]
     },
     "execution_count": 22,
     "metadata": {},
     "output_type": "execute_result"
    }
   ],
   "source": [
    "dynamic_dice_2(5,7)"
   ]
  },
  {
   "cell_type": "code",
   "execution_count": 24,
   "metadata": {},
   "outputs": [],
   "source": [
    "def ask_user():\n",
    "    dice_minimum = int(input(\"give me the minimum number \"))\n",
    "    dice_maximum = int(input(\"give me the maximum number \"))\n",
    "\n",
    "    return (dice_minimum, dice_maximum)"
   ]
  },
  {
   "cell_type": "code",
   "execution_count": 25,
   "metadata": {},
   "outputs": [],
   "source": [
    " def ask_user_Anna():\n",
    "    dice_minimum = int(input(\"give me the minimum number \"))\n",
    "    dice_maximum = int(input(\"give me the maximum number \"))\n",
    "    dice_bound = (dice_minimum, dice_maximum)\n",
    "    return dice_bound"
   ]
  },
  {
   "cell_type": "code",
   "execution_count": 26,
   "metadata": {},
   "outputs": [
    {
     "name": "stdout",
     "output_type": "stream",
     "text": [
      "give me the minimum number 3\n",
      "give me the maximum number 7\n"
     ]
    }
   ],
   "source": [
    "dice_bound = ask_user_Anna()"
   ]
  },
  {
   "cell_type": "code",
   "execution_count": 30,
   "metadata": {},
   "outputs": [],
   "source": [
    "def dice_number(dice_bound):\n",
    "    result = random.randint(dice_bound[0], dice_bound[1])\n",
    "    return result"
   ]
  },
  {
   "cell_type": "code",
   "execution_count": 31,
   "metadata": {},
   "outputs": [
    {
     "name": "stdout",
     "output_type": "stream",
     "text": [
      "give me the minimum number 4\n",
      "give me the maximum number 10\n",
      "5\n"
     ]
    }
   ],
   "source": [
    "dice_bound = ask_user_Anna()\n",
    "result_to_print = dice_number(dice_bound)\n",
    "print(result_to_print)"
   ]
  },
  {
   "cell_type": "code",
   "execution_count": 32,
   "metadata": {
    "scrolled": true
   },
   "outputs": [
    {
     "name": "stdout",
     "output_type": "stream",
     "text": [
      "give me the minimum number 3\n",
      "give me the maximum number 10\n"
     ]
    }
   ],
   "source": [
    "(dice_low_bound, dice_up_bound) = ask_user_Anna()"
   ]
  },
  {
   "cell_type": "code",
   "execution_count": 33,
   "metadata": {},
   "outputs": [
    {
     "name": "stdout",
     "output_type": "stream",
     "text": [
      "How many rounds do you want to play? 3\n"
     ]
    }
   ],
   "source": [
    "rounds = int(input(\"How many rounds do you want to play? \"))\n"
   ]
  },
  {
   "cell_type": "code",
   "execution_count": 34,
   "metadata": {},
   "outputs": [
    {
     "name": "stdout",
     "output_type": "stream",
     "text": [
      "3\n"
     ]
    }
   ],
   "source": [
    "print(rounds)"
   ]
  },
  {
   "cell_type": "code",
   "execution_count": 40,
   "metadata": {},
   "outputs": [
    {
     "name": "stdout",
     "output_type": "stream",
     "text": [
      "How many rounds do you want to play? 2\n",
      "give me the minimum number 1\n",
      "give me the maximum number 2\n",
      "You are now in round 1\n",
      "You rolled a dice with lower bound 1 and upper bound 2\n",
      "Throwing the dice.... result: 2\n",
      "Press a key for the next round!\n",
      "give me the minimum number 1\n",
      "give me the maximum number 5\n",
      "You are now in round 2\n",
      "You rolled a dice with lower bound 1 and upper bound 5\n",
      "Throwing the dice.... result: 5\n"
     ]
    }
   ],
   "source": [
    "rounds = int(input(\"How many rounds do you want to play? \"))\n",
    "for i in range(rounds):\n",
    "    (dice_low_bound, dice_up_bound) = ask_user_Anna()\n",
    "    dice_result = random.randint(dice_low_bound, dice_up_bound)\n",
    "    print('You are now in round', i+1)\n",
    "    print('You rolled a dice with lower bound {0} and upper bound {1}'.format(dice_low_bound, dice_up_bound))\n",
    "    print('Throwing the dice.... result:', dice_result)\n",
    "    if i < rounds-1:\n",
    "        input('Press a key for the next round!')\n",
    "    \n",
    "    "
   ]
  },
  {
   "cell_type": "code",
   "execution_count": 41,
   "metadata": {},
   "outputs": [
    {
     "name": "stdout",
     "output_type": "stream",
     "text": [
      "How many rounds do you want to play? 2\n",
      "give me the minimum number 1\n",
      "give me the maximum number 9\n",
      "You are now in round 1\n",
      "You rolled a dice with lower bound 1 and upper bound 9\n",
      "Throwing the dice.... result: 8\n",
      "Press a key for the next round!1\n",
      "give me the minimum number 8\n",
      "give me the maximum number 9\n",
      "You are now in round 2\n",
      "You rolled a dice with lower bound 8 and upper bound 9\n",
      "Throwing the dice.... result: 8\n"
     ]
    }
   ],
   "source": [
    "rounds = int(input(\"How many rounds do you want to play? \"))\n",
    "for i in range(rounds):\n",
    "    (dice_low_bound, dice_up_bound) = ask_user_Anna()\n",
    "    dice_tuple = (dice_low_bound, dice_up_bound)\n",
    "    dice_result = dice_number(dice_tuple)\n",
    "    print('You are now in round', i+1)\n",
    "    print('You rolled a dice with lower bound {0} and upper bound {1}'.format(dice_low_bound, dice_up_bound))\n",
    "    print('Throwing the dice.... result:', dice_result)\n",
    "    if i < rounds-1:\n",
    "        input('Press a key for the next round!')\n",
    "    "
   ]
  },
  {
   "cell_type": "code",
   "execution_count": null,
   "metadata": {},
   "outputs": [
    {
     "name": "stdout",
     "output_type": "stream",
     "text": [
      "How many rounds do you want to play? 4\n",
      "give me the minimum number 1\n",
      "give me the maximum number 9\n",
      "You are now in round 1\n",
      "You rolled a dice with lower bound and upper bound (1, 9)\n",
      "Throwing the dice.... result: 2\n"
     ]
    }
   ],
   "source": [
    "rounds = int(input(\"How many rounds do you want to play? \"))\n",
    "for i in range(rounds):\n",
    "    bound_tuple = ask_user_Anna()    \n",
    "    dice_result = dice_number(bound_tuple)\n",
    "    print('You are now in round', i+1)\n",
    "    print('You rolled a dice with lower bound and upper bound {0}'.format(bound_tuple))\n",
    "    print('Throwing the dice.... result:', dice_result)\n",
    "    if i < rounds-1:\n",
    "        input('Press a key for the next round!')"
   ]
  },
  {
   "cell_type": "code",
   "execution_count": null,
   "metadata": {},
   "outputs": [],
   "source": []
  }
 ],
 "metadata": {
  "kernelspec": {
   "display_name": "Python 3",
   "language": "python",
   "name": "python3"
  },
  "language_info": {
   "codemirror_mode": {
    "name": "ipython",
    "version": 3
   },
   "file_extension": ".py",
   "mimetype": "text/x-python",
   "name": "python",
   "nbconvert_exporter": "python",
   "pygments_lexer": "ipython3",
   "version": "3.7.3"
  }
 },
 "nbformat": 4,
 "nbformat_minor": 2
}
